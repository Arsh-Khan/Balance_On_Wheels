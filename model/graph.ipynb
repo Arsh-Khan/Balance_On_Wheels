{
 "cells": [
  {
   "cell_type": "code",
   "execution_count": 1,
   "id": "e30c5708",
   "metadata": {},
   "outputs": [],
   "source": [
    "import matplotlib.pyplot as plt\n",
    "import numpy as np\n"
   ]
  },
  {
   "cell_type": "code",
   "execution_count": 2,
   "id": "84e6ea93",
   "metadata": {},
   "outputs": [],
   "source": [
    "# import math\n",
    "# thetha1 = float(input(\"Enter Thetha1 : \"))\n",
    "# thetha2 = float(input(\"Enter Thetha2 : \"))\n",
    "# l3 = float(input(\"Enter L3 : \"))\n",
    "\n",
    "# phi1 = math.pi*(thetha1)/180\n",
    "# phi2 = math.pi*(thetha2)/180\n",
    "# val1 = l3/math.sin(phi1)\n",
    "# val2 = l3/math.sin(phi2)\n",
    "\n",
    "# l2 = val1+val2\n",
    "# l1 = val2-val1\n",
    "\n",
    "# print(l1,l2)\n",
    "# lmax = math.sqrt(math.pow(l2+l1,2)-math.pow(l3,2))\n",
    "# lmin = math.sqrt(math.pow(l2-l1,2)-math.pow(l3,2))\n",
    "# print(lmax,lmin)\n"
   ]
  },
  {
   "cell_type": "code",
   "execution_count": 3,
   "id": "94c6795c",
   "metadata": {},
   "outputs": [
    {
     "name": "stdout",
     "output_type": "stream",
     "text": [
      "Enter L1 : 4.5\n",
      "Enter L2 : 9\n",
      "Enter L3 : 3.4225\n",
      "phi1 : 49.513198945231906\n",
      "phi2 : 14.685818137923565\n",
      "lmax  = 13.058962200343487\n",
      "lmin  = 2.9217278706272425\n"
     ]
    }
   ],
   "source": [
    "import math\n",
    "l1 = float(input(\"Enter L1 : \"))\n",
    "l2 = float(input(\"Enter L2 : \"))\n",
    "l3 = float(input(\"Enter L3 : \"))\n",
    "\n",
    "phi1 = math.asin(l3/(l2-l1))\n",
    "phi2 = math.asin(l3/(l2+l1))\n",
    "\n",
    "phi1 = (180 * phi1)/math.pi\n",
    "phi2 = (180 * phi2)/math.pi\n",
    "\n",
    "print(f\"phi1 : {phi1}\")\n",
    "print(f\"phi2 : {phi2}\")\n",
    "lmax = math.sqrt(math.pow(l2+l1,2)-math.pow(l3,2))\n",
    "lmin = math.sqrt(math.pow(l2-l1,2)-math.pow(l3,2))\n",
    "\n",
    "print(f\"lmax  = {lmax}\")\n",
    "print(f\"lmin  = {lmin}\")\n"
   ]
  },
  {
   "cell_type": "code",
   "execution_count": 4,
   "id": "d5f5e2d0",
   "metadata": {},
   "outputs": [
    {
     "name": "stdout",
     "output_type": "stream",
     "text": [
      "7.334410472041984\n"
     ]
    },
    {
     "data": {
      "image/png": "[encoded data removed]",
      "text/plain": [
       "<Figure size 432x288 with 1 Axes>"
      ]
     },
     "metadata": {
      "needs_background": "light"
     },
     "output_type": "display_data"
    }
   ],
   "source": [
    "x = np.arange(0,6.3,0.1)\n",
    "# print(x)\n",
    "y = []\n",
    "for i in range(63):\n",
    "    y.append(math.sqrt(math.pow(l2,2)-math.pow(l3+l1*math.sin(x[i]+(phi1*math.pi/180)),2))-l1*math.cos(x[i]+(phi2*math.pi/180)))\n",
    "    \n",
    "plt.xlabel(\"Driver Motor Angle[rad]\")\n",
    "plt.ylabel(\"Leg Extension\")\n",
    "\n",
    "slope = (y[20]-y[10])/(x[20]-x[10])\n",
    "print(slope)\n",
    "\n",
    "plt.plot(x,y)\n",
    "plt.show()\n"
   ]
  }
 ],
 "metadata": {
  "kernelspec": {
   "display_name": "Python 3 (ipykernel)",
   "language": "python",
   "name": "python3"
  },
  "language_info": {
   "codemirror_mode": {
    "name": "ipython",
    "version": 3
   },
   "file_extension": ".py",
   "mimetype": "text/x-python",
   "name": "python",
   "nbconvert_exporter": "python",
   "pygments_lexer": "ipython3",
   "version": "3.10.4"
  }
 },
 "nbformat": 4,
 "nbformat_minor": 5
}
